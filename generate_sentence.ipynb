{
 "cells": [
  {
   "cell_type": "code",
   "execution_count": 10,
   "metadata": {},
   "outputs": [],
   "source": [
    "from icecream import ic\n",
    "import random"
   ]
  },
  {
   "cell_type": "code",
   "execution_count": 9,
   "metadata": {},
   "outputs": [
    {
     "name": "stdout",
     "output_type": "stream",
     "text": [
      "Requirement already satisfied: icecream in d:\\anaconda\\lib\\site-packages (2.1.1)\n",
      "Requirement already satisfied: asttokens>=2.0.1 in d:\\anaconda\\lib\\site-packages (from icecream) (2.0.5)\n",
      "Requirement already satisfied: pygments>=2.2.0 in d:\\anaconda\\lib\\site-packages (from icecream) (2.7.2)\n",
      "Requirement already satisfied: executing>=0.3.1 in d:\\anaconda\\lib\\site-packages (from icecream) (0.8.0)\n",
      "Requirement already satisfied: colorama>=0.3.9 in c:\\users\\vb\\appdata\\roaming\\python\\python38\\site-packages (from icecream) (0.4.3)\n",
      "Requirement already satisfied: six in d:\\anaconda\\lib\\site-packages (from asttokens>=2.0.1->icecream) (1.15.0)\n"
     ]
    }
   ],
   "source": [
    "!pip install icecream"
   ]
  },
  {
   "cell_type": "code",
   "execution_count": 18,
   "metadata": {},
   "outputs": [],
   "source": [
    "grammar_rule = \"\"\"\n",
    "复合句子 = 句子 连词 复合句子 | 句子 \n",
    "句子 = 主语s 谓语 宾语s\n",
    "谓语 = 喜欢 | 讨厌 | 吃掉 | 玩 | 跑\n",
    "主语s = 主语 和 主语 | 主语\n",
    "宾语s = 宾语 和 宾语 | 主语\n",
    "主语 = 冠词 定语 代号\n",
    "宾语 = 冠词 定语 代号\n",
    "代号 = 名词 | 代词\n",
    "名词 = 苹果 | 鸭梨 | 西瓜 | 小狗 | 小猫 | 滑板 | 老张 | 老王\n",
    "代词 = 你 | 我 | 他 | 他们 | 你们 | 我们 | 它\n",
    "定语 = 漂亮的 | 今天的 | 不知名的 | 神秘的 | 奇奇怪怪的\n",
    "冠词 = 一个 | 一只 | 这个 | 那个\n",
    "连词 = 但是 | 而且 | 不过\n",
    "\"\"\"\n",
    "\n"
   ]
  },
  {
   "cell_type": "code",
   "execution_count": 30,
   "metadata": {},
   "outputs": [],
   "source": [
    "\"\"\"\n",
    "函数名：parse_grammar\n",
    "功能：生成语法\n",
    "\n",
    "函数名：gene\n",
    "功能：随机生成句子\n",
    "\"\"\"\n",
    "def parse_grammar(rules):\n",
    "    grammar = dict()\n",
    "    for line in rules.split('\\n'):\n",
    "        if not line.strip(): continue\n",
    "        target, expand = line.split('=')\n",
    "        expands = expand.split('|')\n",
    "        \n",
    "        grammar[target.strip()] = [e.strip() for e in expands]\n",
    "        \n",
    "    return grammar"
   ]
  },
  {
   "cell_type": "code",
   "execution_count": 23,
   "metadata": {},
   "outputs": [
    {
     "data": {
      "text/plain": [
       "{'复合句子': ['句子 连词 复合句子', '句子'],\n",
       " '句子': ['主语s 谓语 宾语s'],\n",
       " '谓语': ['喜欢', '讨厌', '吃掉', '玩', '跑'],\n",
       " '主语s': ['主语 和 主语', '主语'],\n",
       " '宾语s': ['宾语 和 宾语', '主语'],\n",
       " '主语': ['冠词 定语 代号'],\n",
       " '宾语': ['冠词 定语 代号'],\n",
       " '代号': ['名词', '代词'],\n",
       " '名词': ['苹果', '鸭梨', '西瓜', '小狗', '小猫', '滑板', '老张', '老王'],\n",
       " '代词': ['你', '我', '他', '他们', '你们', '我们', '它'],\n",
       " '定语': ['漂亮的', '今天的', '不知名的', '神秘的', '奇奇怪怪的'],\n",
       " '冠词': ['一个', '一只', '这个', '那个'],\n",
       " '连词': ['但是', '而且', '不过']}"
      ]
     },
     "execution_count": 23,
     "metadata": {},
     "output_type": "execute_result"
    }
   ],
   "source": [
    "parse_grammar(grammar_rule)"
   ]
  },
  {
   "cell_type": "code",
   "execution_count": 41,
   "metadata": {},
   "outputs": [],
   "source": [
    "def gene(target, grammar):\n",
    "    if target not in grammar: return target\n",
    "    expands = random.choice(grammar[target])\n",
    "    return ''.join([gene(e, grammar) for e in expands.split()])"
   ]
  },
  {
   "cell_type": "code",
   "execution_count": 42,
   "metadata": {},
   "outputs": [
    {
     "name": "stderr",
     "output_type": "stream",
     "text": [
      "ic| gene('expression', parse_grammar(another_rule)): '(1*97)*(65^1)'\n",
      "ic| gene('expression', parse_grammar(another_rule)): '3+6'\n",
      "ic| gene('expression', parse_grammar(another_rule)): '3+16'\n",
      "ic| gene('expression', parse_grammar(another_rule)): '(1-7)/((8/21)*((96-8)^(6^3878436)))'\n",
      "ic| gene('expression', parse_grammar(another_rule)): '(66/2)^((2->1)^(13-15))'\n",
      "ic| gene('expression', parse_grammar(another_rule)): '(1+94)->(55*9)'\n",
      "ic| gene('expression', parse_grammar(another_rule)): '(4+3)->(92+8)'\n",
      "ic| gene('expression', parse_grammar(another_rule)): '68+28'\n",
      "ic| gene('expression', parse_grammar(another_rule)): '(2489+48)-((51/228)/((3^738)-(2-4)))'\n",
      "ic| gene('expression', parse_grammar(another_rule)): '(237+4)/(7-2)'\n",
      "ic| gene('expression', parse_grammar(another_rule)): '4->223'\n",
      "ic| gene('expression', parse_grammar(another_rule)): '(4^1)^(21/7)'\n",
      "ic| gene('expression', parse_grammar(another_rule)): '1/481'\n",
      "ic| gene('expression', parse_grammar(another_rule)): '(3^38)*(5*9318483)'\n",
      "ic| gene('expression', parse_grammar(another_rule)): '3/5461'\n",
      "ic| gene('expression', parse_grammar(another_rule)): '3+5'\n",
      "ic| gene('expression', parse_grammar(another_rule)): '(6^27)->((53->25)+((32->5)-((983->2)-(23^2))))'\n",
      "ic| gene('expression', parse_grammar(another_rule)): '(2-7)->(8-89631)'\n",
      "ic| gene('expression', parse_grammar(another_rule)): '6*4'\n",
      "ic| gene('expression', parse_grammar(another_rule)): '(381*8)*((5^3)/((3/6)->((4+3)->((88/14)*((6^33)/((6*16)-((129/75)+((64*3)-(6*99)))))))))'\n",
      "ic| gene('expression', parse_grammar(another_rule)): '299^8'\n",
      "ic| gene('expression', parse_grammar(another_rule)): '(6/363)^((4->871)/((8*63)/(1^729)))'\n",
      "ic| gene('expression', parse_grammar(another_rule)): '(59+29)+(4/267)'\n",
      "ic| gene('expression', parse_grammar(another_rule)): '21/53'\n",
      "ic| gene('expression', parse_grammar(another_rule)): '15^358'\n",
      "ic| gene('expression', parse_grammar(another_rule)): '(9295591335-74)+(2/8437)'\n",
      "ic| gene('expression', parse_grammar(another_rule)): '(5-16)-((2/2)*(85+5))'\n",
      "ic| gene('expression', parse_grammar(another_rule)): '(85^2)/((86->7593)+((5/8)-((8^26)+(2/2))))'\n",
      "ic| gene('expression', parse_grammar(another_rule)): '(3*452)^((7->3659)->((8*2)/((2^148)-(8-52))))'\n",
      "ic| gene('expression', parse_grammar(another_rule)): '9^2'\n",
      "ic| gene('expression', parse_grammar(another_rule)): '(254*7)-((755/28)+(26*9))'\n",
      "ic| gene('expression', parse_grammar(another_rule)): '64^7'\n",
      "ic| gene('expression', parse_grammar(another_rule)): '855-9'\n",
      "ic| gene('expression', parse_grammar(another_rule)): '6->986'\n",
      "ic| gene('expression', parse_grammar(another_rule)): '(9359*9)/(3/45)'\n",
      "ic| gene('expression', parse_grammar(another_rule)): '7+5'\n",
      "ic| gene('expression', parse_grammar(another_rule)): '(35119->6)*(3^6)'\n",
      "ic| gene('expression', parse_grammar(another_rule)): '(6/35)^((2->5)->(7^2))'\n",
      "ic| gene('expression', parse_grammar(another_rule)): '141-8'\n",
      "ic| gene('expression', parse_grammar(another_rule)): '2157^4'\n",
      "ic| gene('expression', parse_grammar(another_rule)): '833-97'\n",
      "ic| gene('expression', parse_grammar(another_rule)): '(5/87)/((1382->2)^((7+18677)/((9+5)/(7+62))))'\n",
      "ic| gene('expression', parse_grammar(another_rule)): '618^363772'\n",
      "ic| gene('expression', parse_grammar(another_rule)): '(1->9)^((95+783)-(8598-618))'\n",
      "ic| gene('expression', parse_grammar(another_rule)): '(74^5778)-((8-8)+((76-6595)^((4*84484)^((7-5)->(3-9391)))))'\n",
      "ic| gene('expression', parse_grammar(another_rule)): '(33*9912)^(63638799-5)'\n",
      "ic| gene('expression', parse_grammar(another_rule)): '(597->3718)->(8*55)'\n",
      "ic| gene('expression', parse_grammar(another_rule)): '(35312+551929128871)->(9-2)'\n",
      "ic| gene('expression', parse_grammar(another_rule)): '5^88'\n",
      "ic| gene('expression', parse_grammar(another_rule)): '1*7'\n",
      "ic| gene('expression', parse_grammar(another_rule)): '8^866'\n",
      "ic| gene('expression', parse_grammar(another_rule)): '27^6'\n",
      "ic| gene('expression', parse_grammar(another_rule)): '9-47232'\n",
      "ic| gene('expression', parse_grammar(another_rule)): '(3*5)*((5*97)^((625->5)->(647/51)))'\n",
      "ic| gene('expression', parse_grammar(another_rule)): '7->235'\n",
      "ic| gene('expression', parse_grammar(another_rule)): '621/7'\n",
      "ic| gene('expression', parse_grammar(another_rule)): '6+9'\n",
      "ic| gene('expression', parse_grammar(another_rule)): '5->1'\n",
      "ic| gene('expression', parse_grammar(another_rule)): '51*76'\n",
      "ic| gene('expression', parse_grammar(another_rule)): '7+6'\n",
      "ic| gene('expression', parse_grammar(another_rule)): '61*8'\n",
      "ic| gene('expression', parse_grammar(another_rule)): '98^8'\n",
      "ic| gene('expression', parse_grammar(another_rule)): '(84->5)-(93-31)'\n",
      "ic| gene('expression', parse_grammar(another_rule)): '(8^562)^(8->465)'\n",
      "ic| gene('expression', parse_grammar(another_rule)): '8^79'\n",
      "ic| gene('expression', parse_grammar(another_rule)): '(1+913)^(413595-92)'\n",
      "ic| gene('expression', parse_grammar(another_rule)): '959-52'\n",
      "ic| gene('expression', parse_grammar(another_rule)): '(66+2)->(435->17)'\n",
      "ic| gene('expression', parse_grammar(another_rule)): '(71*3)->(68->4)'\n",
      "ic| gene('expression', parse_grammar(another_rule)): '(11+971)->(182^6)'\n",
      "ic| gene('expression', parse_grammar(another_rule)): '(4+3)-((6^9)-(4+42))'\n",
      "ic| gene('expression', parse_grammar(another_rule)): '9*45'\n",
      "ic| gene('expression', parse_grammar(another_rule)): '(68*3)*(5395+24772)'\n",
      "ic| gene('expression', parse_grammar(another_rule)): '97^33'\n",
      "ic| gene('expression', parse_grammar(another_rule)): '(6^996)^((9/6)+((48/6)^(66*4)))'\n",
      "ic| gene('expression', parse_grammar(another_rule)): '(1+3)+((5387^2)*(883476->5))'\n",
      "ic| gene('expression', parse_grammar(another_rule)): '3^2'\n",
      "ic| gene('expression', parse_grammar(another_rule)): '(861+5)*((6+5)*(21-9))'\n",
      "ic| gene('expression', parse_grammar(another_rule)): '(4->7)/(2->1)'\n",
      "ic| gene('expression', parse_grammar(another_rule)): '53/89'\n",
      "ic| gene('expression', parse_grammar(another_rule)): '(6+3)+((7+415)+(5625746->298))'\n",
      "ic| gene('expression', parse_grammar(another_rule)): '16926^957'\n",
      "ic| gene('expression', parse_grammar(another_rule)): '(6^12)/((26/43)->((1*3)*(393/7)))'\n",
      "ic| gene('expression', parse_grammar(another_rule)): '3686+7'\n",
      "ic| gene('expression', parse_grammar(another_rule)): '(769664+12)*((55->5)^(3943^326))'\n",
      "ic| gene('expression', parse_grammar(another_rule)): '6-232'\n",
      "ic| gene('expression', parse_grammar(another_rule)): '(464->2)*((251-765)/(94-47362))'\n",
      "ic| gene('expression', parse_grammar(another_rule)): '5-5'\n",
      "ic| gene('expression', parse_grammar(another_rule)): '(9^91)^((651*178)*((9^29)/(152^23)))'\n",
      "ic| gene('expression', parse_grammar(another_rule)): '(1/1)^(4*14)'\n",
      "ic| gene('expression', parse_grammar(another_rule)): '1/28'\n",
      "ic| gene('expression', parse_grammar(another_rule)): '(1/4)/((419+59)+(594/3))'\n",
      "ic| gene('expression', parse_grammar(another_rule)): '15-767'\n",
      "ic| gene('expression', parse_grammar(another_rule)): '(11+798)+((3522-14)->(3+6))'\n",
      "ic| gene('expression', parse_grammar(another_rule)): '7-3'\n",
      "ic| gene('expression', parse_grammar(another_rule)): '2->7'\n",
      "ic| gene('expression', parse_grammar(another_rule)): '618^1'\n",
      "ic| gene('expression', parse_grammar(another_rule)): '9-5'\n",
      "ic| gene('expression', parse_grammar(another_rule)): '13-536'\n",
      "ic| gene('expression', parse_grammar(another_rule)): '(1*8)*((2->4)/((2-86)^(8->6)))'\n"
     ]
    }
   ],
   "source": [
    "if __name__ == '__main__':\n",
    "    another_rule = \"\"\"\n",
    "    expression = ( math ) op ( expression ) | math \n",
    "    math = num op num\n",
    "    num = sing_num num | sing_num\n",
    "    sing_num = 1 | 2 | 3 | 4 | 5 | 6 | 7 | 8 | 9 \n",
    "    op = + | - | * | / | ^ | ->\n",
    "    \"\"\"\n",
    "    for i in range(100):\n",
    "        ic(gene('expression', parse_grammar(another_rule)))"
   ]
  },
  {
   "cell_type": "code",
   "execution_count": null,
   "metadata": {},
   "outputs": [],
   "source": []
  }
 ],
 "metadata": {
  "kernelspec": {
   "display_name": "Python 3",
   "language": "python",
   "name": "python3"
  },
  "language_info": {
   "codemirror_mode": {
    "name": "ipython",
    "version": 3
   },
   "file_extension": ".py",
   "mimetype": "text/x-python",
   "name": "python",
   "nbconvert_exporter": "python",
   "pygments_lexer": "ipython3",
   "version": "3.8.5"
  }
 },
 "nbformat": 4,
 "nbformat_minor": 4
}
